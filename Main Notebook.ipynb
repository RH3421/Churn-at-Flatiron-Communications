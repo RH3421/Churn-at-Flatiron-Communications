{
 "cells": [
  {
   "cell_type": "markdown",
   "metadata": {},
   "source": [
    "STAKEHOLDER: Leading Telecommunications Company\n",
    "\n",
    "PROBLEM: The stakeholder has approached up to find out how they can reduce churn.\n",
    "\n",
    "BUSINESS UNDERSTADING: Build a classifier to predict whether a customer will (\"soon\") stop doing business with our stakeholder. Optimize to reduce amount of money lost due to churn. This is a binary classification problem.\n",
    "\n",
    "PRIMARY METRIC: Recall "
   ]
  },
  {
   "cell_type": "markdown",
   "metadata": {},
   "source": [
    "## EDA"
   ]
  },
  {
   "cell_type": "markdown",
   "metadata": {},
   "source": [
    "Import libraries"
   ]
  },
  {
   "cell_type": "code",
   "execution_count": 1,
   "metadata": {},
   "outputs": [],
   "source": [
    "import pandas as pd\n",
    "import numpy as np\n",
    "import seaborn as sns\n",
    "from matplotlib import pyplot as plt\n",
    "from sklearn.linear_model import LinearRegression, LogisticRegression\n",
    "from sklearn.feature_selection import RFE\n",
    "from sklearn.preprocessing import PolynomialFeatures, StandardScaler, MinMaxScaler, OneHotEncoder\n",
    "from sklearn.model_selection import train_test_split, GridSearchCV, cross_val_score\n",
    "from sklearn.neighbors import KNeighborsClassifier, KNeighborsRegressor, NearestNeighbors\n",
    "from sklearn.tree import DecisionTreeClassifier, DecisionTreeRegressor, plot_tree\n",
    "from sklearn.dummy import DummyClassifier\n",
    "from sklearn.metrics import accuracy_score, make_scorer, recall_score, plot_roc_curve, classification_report, plot_confusion_matrix\n",
    "from sklearn.naive_bayes import MultinomialNB, GaussianNB, BernoulliNB\n",
    "from sklearn.ensemble import BaggingClassifier, RandomForestClassifier, VotingClassifier, AdaBoostClassifier, GradientBoostingClassifier\n",
    "from xgboost import XGBClassifier \n",
    "from imblearn.over_sampling import SMOTE\n",
    "from imblearn.under_sampling import RandomUnderSampler\n",
    "from imblearn.pipeline import Pipeline as imbPipeline\n",
    "from statsmodels.api import qqplot\n",
    "from scipy import stats"
   ]
  },
  {
   "cell_type": "markdown",
   "metadata": {},
   "source": [
    "Load and explore dataset"
   ]
  },
  {
   "cell_type": "code",
   "execution_count": 5,
   "metadata": {},
   "outputs": [
    {
     "data": {
      "text/html": [
       "<div>\n",
       "<style scoped>\n",
       "    .dataframe tbody tr th:only-of-type {\n",
       "        vertical-align: middle;\n",
       "    }\n",
       "\n",
       "    .dataframe tbody tr th {\n",
       "        vertical-align: top;\n",
       "    }\n",
       "\n",
       "    .dataframe thead th {\n",
       "        text-align: right;\n",
       "    }\n",
       "</style>\n",
       "<table border=\"1\" class=\"dataframe\">\n",
       "  <thead>\n",
       "    <tr style=\"text-align: right;\">\n",
       "      <th></th>\n",
       "      <th>CustomerID</th>\n",
       "      <th>Churn</th>\n",
       "      <th>MonthlyRevenue</th>\n",
       "      <th>MonthlyMinutes</th>\n",
       "      <th>TotalRecurringCharge</th>\n",
       "      <th>DirectorAssistedCalls</th>\n",
       "      <th>OverageMinutes</th>\n",
       "      <th>RoamingCalls</th>\n",
       "      <th>PercChangeMinutes</th>\n",
       "      <th>PercChangeRevenues</th>\n",
       "      <th>...</th>\n",
       "      <th>ReferralsMadeBySubscriber</th>\n",
       "      <th>IncomeGroup</th>\n",
       "      <th>OwnsMotorcycle</th>\n",
       "      <th>AdjustmentsToCreditRating</th>\n",
       "      <th>HandsetPrice</th>\n",
       "      <th>MadeCallToRetentionTeam</th>\n",
       "      <th>CreditRating</th>\n",
       "      <th>PrizmCode</th>\n",
       "      <th>Occupation</th>\n",
       "      <th>MaritalStatus</th>\n",
       "    </tr>\n",
       "  </thead>\n",
       "  <tbody>\n",
       "    <tr>\n",
       "      <th>0</th>\n",
       "      <td>3000002</td>\n",
       "      <td>Yes</td>\n",
       "      <td>24.00</td>\n",
       "      <td>219.0</td>\n",
       "      <td>22.0</td>\n",
       "      <td>0.25</td>\n",
       "      <td>0.0</td>\n",
       "      <td>0.0</td>\n",
       "      <td>-157.0</td>\n",
       "      <td>-19.0</td>\n",
       "      <td>...</td>\n",
       "      <td>0</td>\n",
       "      <td>4</td>\n",
       "      <td>No</td>\n",
       "      <td>0</td>\n",
       "      <td>30</td>\n",
       "      <td>Yes</td>\n",
       "      <td>1-Highest</td>\n",
       "      <td>Suburban</td>\n",
       "      <td>Professional</td>\n",
       "      <td>No</td>\n",
       "    </tr>\n",
       "    <tr>\n",
       "      <th>1</th>\n",
       "      <td>3000010</td>\n",
       "      <td>Yes</td>\n",
       "      <td>16.99</td>\n",
       "      <td>10.0</td>\n",
       "      <td>17.0</td>\n",
       "      <td>0.00</td>\n",
       "      <td>0.0</td>\n",
       "      <td>0.0</td>\n",
       "      <td>-4.0</td>\n",
       "      <td>0.0</td>\n",
       "      <td>...</td>\n",
       "      <td>0</td>\n",
       "      <td>5</td>\n",
       "      <td>No</td>\n",
       "      <td>0</td>\n",
       "      <td>30</td>\n",
       "      <td>No</td>\n",
       "      <td>4-Medium</td>\n",
       "      <td>Suburban</td>\n",
       "      <td>Professional</td>\n",
       "      <td>Yes</td>\n",
       "    </tr>\n",
       "    <tr>\n",
       "      <th>2</th>\n",
       "      <td>3000014</td>\n",
       "      <td>No</td>\n",
       "      <td>38.00</td>\n",
       "      <td>8.0</td>\n",
       "      <td>38.0</td>\n",
       "      <td>0.00</td>\n",
       "      <td>0.0</td>\n",
       "      <td>0.0</td>\n",
       "      <td>-2.0</td>\n",
       "      <td>0.0</td>\n",
       "      <td>...</td>\n",
       "      <td>0</td>\n",
       "      <td>6</td>\n",
       "      <td>No</td>\n",
       "      <td>0</td>\n",
       "      <td>Unknown</td>\n",
       "      <td>No</td>\n",
       "      <td>3-Good</td>\n",
       "      <td>Town</td>\n",
       "      <td>Crafts</td>\n",
       "      <td>Yes</td>\n",
       "    </tr>\n",
       "    <tr>\n",
       "      <th>3</th>\n",
       "      <td>3000022</td>\n",
       "      <td>No</td>\n",
       "      <td>82.28</td>\n",
       "      <td>1312.0</td>\n",
       "      <td>75.0</td>\n",
       "      <td>1.24</td>\n",
       "      <td>0.0</td>\n",
       "      <td>0.0</td>\n",
       "      <td>157.0</td>\n",
       "      <td>8.1</td>\n",
       "      <td>...</td>\n",
       "      <td>0</td>\n",
       "      <td>6</td>\n",
       "      <td>No</td>\n",
       "      <td>0</td>\n",
       "      <td>10</td>\n",
       "      <td>No</td>\n",
       "      <td>4-Medium</td>\n",
       "      <td>Other</td>\n",
       "      <td>Other</td>\n",
       "      <td>No</td>\n",
       "    </tr>\n",
       "    <tr>\n",
       "      <th>4</th>\n",
       "      <td>3000026</td>\n",
       "      <td>Yes</td>\n",
       "      <td>17.14</td>\n",
       "      <td>0.0</td>\n",
       "      <td>17.0</td>\n",
       "      <td>0.00</td>\n",
       "      <td>0.0</td>\n",
       "      <td>0.0</td>\n",
       "      <td>0.0</td>\n",
       "      <td>-0.2</td>\n",
       "      <td>...</td>\n",
       "      <td>0</td>\n",
       "      <td>9</td>\n",
       "      <td>No</td>\n",
       "      <td>1</td>\n",
       "      <td>10</td>\n",
       "      <td>No</td>\n",
       "      <td>1-Highest</td>\n",
       "      <td>Other</td>\n",
       "      <td>Professional</td>\n",
       "      <td>Yes</td>\n",
       "    </tr>\n",
       "  </tbody>\n",
       "</table>\n",
       "<p>5 rows × 58 columns</p>\n",
       "</div>"
      ],
      "text/plain": [
       "   CustomerID Churn  MonthlyRevenue  MonthlyMinutes  TotalRecurringCharge  \\\n",
       "0     3000002   Yes           24.00           219.0                  22.0   \n",
       "1     3000010   Yes           16.99            10.0                  17.0   \n",
       "2     3000014    No           38.00             8.0                  38.0   \n",
       "3     3000022    No           82.28          1312.0                  75.0   \n",
       "4     3000026   Yes           17.14             0.0                  17.0   \n",
       "\n",
       "   DirectorAssistedCalls  OverageMinutes  RoamingCalls  PercChangeMinutes  \\\n",
       "0                   0.25             0.0           0.0             -157.0   \n",
       "1                   0.00             0.0           0.0               -4.0   \n",
       "2                   0.00             0.0           0.0               -2.0   \n",
       "3                   1.24             0.0           0.0              157.0   \n",
       "4                   0.00             0.0           0.0                0.0   \n",
       "\n",
       "   PercChangeRevenues  ...  ReferralsMadeBySubscriber  IncomeGroup  \\\n",
       "0               -19.0  ...                          0            4   \n",
       "1                 0.0  ...                          0            5   \n",
       "2                 0.0  ...                          0            6   \n",
       "3                 8.1  ...                          0            6   \n",
       "4                -0.2  ...                          0            9   \n",
       "\n",
       "   OwnsMotorcycle  AdjustmentsToCreditRating  HandsetPrice  \\\n",
       "0              No                          0            30   \n",
       "1              No                          0            30   \n",
       "2              No                          0       Unknown   \n",
       "3              No                          0            10   \n",
       "4              No                          1            10   \n",
       "\n",
       "   MadeCallToRetentionTeam  CreditRating  PrizmCode    Occupation  \\\n",
       "0                      Yes     1-Highest   Suburban  Professional   \n",
       "1                       No      4-Medium   Suburban  Professional   \n",
       "2                       No        3-Good       Town        Crafts   \n",
       "3                       No      4-Medium      Other         Other   \n",
       "4                       No     1-Highest      Other  Professional   \n",
       "\n",
       "   MaritalStatus  \n",
       "0             No  \n",
       "1            Yes  \n",
       "2            Yes  \n",
       "3             No  \n",
       "4            Yes  \n",
       "\n",
       "[5 rows x 58 columns]"
      ]
     },
     "execution_count": 5,
     "metadata": {},
     "output_type": "execute_result"
    }
   ],
   "source": [
    "df = pd.read_csv('data/cell2celltrain.csv')\n",
    "df.head()"
   ]
  },
  {
   "cell_type": "code",
   "execution_count": 6,
   "metadata": {
    "scrolled": false
   },
   "outputs": [
    {
     "name": "stdout",
     "output_type": "stream",
     "text": [
      "<class 'pandas.core.frame.DataFrame'>\n",
      "RangeIndex: 51047 entries, 0 to 51046\n",
      "Data columns (total 58 columns):\n",
      " #   Column                     Non-Null Count  Dtype  \n",
      "---  ------                     --------------  -----  \n",
      " 0   CustomerID                 51047 non-null  int64  \n",
      " 1   Churn                      51047 non-null  object \n",
      " 2   MonthlyRevenue             50891 non-null  float64\n",
      " 3   MonthlyMinutes             50891 non-null  float64\n",
      " 4   TotalRecurringCharge       50891 non-null  float64\n",
      " 5   DirectorAssistedCalls      50891 non-null  float64\n",
      " 6   OverageMinutes             50891 non-null  float64\n",
      " 7   RoamingCalls               50891 non-null  float64\n",
      " 8   PercChangeMinutes          50680 non-null  float64\n",
      " 9   PercChangeRevenues         50680 non-null  float64\n",
      " 10  DroppedCalls               51047 non-null  float64\n",
      " 11  BlockedCalls               51047 non-null  float64\n",
      " 12  UnansweredCalls            51047 non-null  float64\n",
      " 13  CustomerCareCalls          51047 non-null  float64\n",
      " 14  ThreewayCalls              51047 non-null  float64\n",
      " 15  ReceivedCalls              51047 non-null  float64\n",
      " 16  OutboundCalls              51047 non-null  float64\n",
      " 17  InboundCalls               51047 non-null  float64\n",
      " 18  PeakCallsInOut             51047 non-null  float64\n",
      " 19  OffPeakCallsInOut          51047 non-null  float64\n",
      " 20  DroppedBlockedCalls        51047 non-null  float64\n",
      " 21  CallForwardingCalls        51047 non-null  float64\n",
      " 22  CallWaitingCalls           51047 non-null  float64\n",
      " 23  MonthsInService            51047 non-null  int64  \n",
      " 24  UniqueSubs                 51047 non-null  int64  \n",
      " 25  ActiveSubs                 51047 non-null  int64  \n",
      " 26  ServiceArea                51023 non-null  object \n",
      " 27  Handsets                   51046 non-null  float64\n",
      " 28  HandsetModels              51046 non-null  float64\n",
      " 29  CurrentEquipmentDays       51046 non-null  float64\n",
      " 30  AgeHH1                     50138 non-null  float64\n",
      " 31  AgeHH2                     50138 non-null  float64\n",
      " 32  ChildrenInHH               51047 non-null  object \n",
      " 33  HandsetRefurbished         51047 non-null  object \n",
      " 34  HandsetWebCapable          51047 non-null  object \n",
      " 35  TruckOwner                 51047 non-null  object \n",
      " 36  RVOwner                    51047 non-null  object \n",
      " 37  Homeownership              51047 non-null  object \n",
      " 38  BuysViaMailOrder           51047 non-null  object \n",
      " 39  RespondsToMailOffers       51047 non-null  object \n",
      " 40  OptOutMailings             51047 non-null  object \n",
      " 41  NonUSTravel                51047 non-null  object \n",
      " 42  OwnsComputer               51047 non-null  object \n",
      " 43  HasCreditCard              51047 non-null  object \n",
      " 44  RetentionCalls             51047 non-null  int64  \n",
      " 45  RetentionOffersAccepted    51047 non-null  int64  \n",
      " 46  NewCellphoneUser           51047 non-null  object \n",
      " 47  NotNewCellphoneUser        51047 non-null  object \n",
      " 48  ReferralsMadeBySubscriber  51047 non-null  int64  \n",
      " 49  IncomeGroup                51047 non-null  int64  \n",
      " 50  OwnsMotorcycle             51047 non-null  object \n",
      " 51  AdjustmentsToCreditRating  51047 non-null  int64  \n",
      " 52  HandsetPrice               51047 non-null  object \n",
      " 53  MadeCallToRetentionTeam    51047 non-null  object \n",
      " 54  CreditRating               51047 non-null  object \n",
      " 55  PrizmCode                  51047 non-null  object \n",
      " 56  Occupation                 51047 non-null  object \n",
      " 57  MaritalStatus              51047 non-null  object \n",
      "dtypes: float64(26), int64(9), object(23)\n",
      "memory usage: 22.6+ MB\n"
     ]
    }
   ],
   "source": [
    "df.info()"
   ]
  },
  {
   "cell_type": "code",
   "execution_count": 32,
   "metadata": {},
   "outputs": [
    {
     "data": {
      "text/html": [
       "<div>\n",
       "<style scoped>\n",
       "    .dataframe tbody tr th:only-of-type {\n",
       "        vertical-align: middle;\n",
       "    }\n",
       "\n",
       "    .dataframe tbody tr th {\n",
       "        vertical-align: top;\n",
       "    }\n",
       "\n",
       "    .dataframe thead th {\n",
       "        text-align: right;\n",
       "    }\n",
       "</style>\n",
       "<table border=\"1\" class=\"dataframe\">\n",
       "  <thead>\n",
       "    <tr style=\"text-align: right;\">\n",
       "      <th></th>\n",
       "      <th>Churn</th>\n",
       "      <th>MonthlyRevenue</th>\n",
       "      <th>MonthlyMinutes</th>\n",
       "      <th>TotalRecurringCharge</th>\n",
       "      <th>DirectorAssistedCalls</th>\n",
       "      <th>OverageMinutes</th>\n",
       "      <th>RoamingCalls</th>\n",
       "      <th>PercChangeMinutes</th>\n",
       "      <th>PercChangeRevenues</th>\n",
       "      <th>DroppedCalls</th>\n",
       "      <th>BlockedCalls</th>\n",
       "      <th>UnansweredCalls</th>\n",
       "      <th>CustomerCareCalls</th>\n",
       "      <th>ThreewayCalls</th>\n",
       "      <th>ReceivedCalls</th>\n",
       "      <th>OutboundCalls</th>\n",
       "      <th>InboundCalls</th>\n",
       "      <th>PeakCallsInOut</th>\n",
       "      <th>OffPeakCallsInOut</th>\n",
       "      <th>DroppedBlockedCalls</th>\n",
       "      <th>CallForwardingCalls</th>\n",
       "      <th>CallWaitingCalls</th>\n",
       "      <th>MonthsInService</th>\n",
       "      <th>UniqueSubs</th>\n",
       "      <th>ActiveSubs</th>\n",
       "      <th>Handsets</th>\n",
       "      <th>HandsetModels</th>\n",
       "      <th>CurrentEquipmentDays</th>\n",
       "      <th>AgeHH1</th>\n",
       "      <th>AgeHH2</th>\n",
       "      <th>ChildrenInHH</th>\n",
       "      <th>HandsetRefurbished</th>\n",
       "      <th>HandsetWebCapable</th>\n",
       "      <th>TruckOwner</th>\n",
       "      <th>RVOwner</th>\n",
       "      <th>BuysViaMailOrder</th>\n",
       "      <th>RespondsToMailOffers</th>\n",
       "      <th>OptOutMailings</th>\n",
       "      <th>NonUSTravel</th>\n",
       "      <th>OwnsComputer</th>\n",
       "      <th>HasCreditCard</th>\n",
       "      <th>RetentionCalls</th>\n",
       "      <th>RetentionOffersAccepted</th>\n",
       "      <th>NewCellphoneUser</th>\n",
       "      <th>ReferralsMadeBySubscriber</th>\n",
       "      <th>IncomeGroup</th>\n",
       "      <th>OwnsMotorcycle</th>\n",
       "      <th>AdjustmentsToCreditRating</th>\n",
       "      <th>MadeCallToRetentionTeam</th>\n",
       "      <th>CreditRating</th>\n",
       "      <th>ZipCode</th>\n",
       "    </tr>\n",
       "  </thead>\n",
       "  <tbody>\n",
       "    <tr>\n",
       "      <th>count</th>\n",
       "      <td>49752.000000</td>\n",
       "      <td>49752.000000</td>\n",
       "      <td>49752.000000</td>\n",
       "      <td>49752.000000</td>\n",
       "      <td>49752.000000</td>\n",
       "      <td>49752.000000</td>\n",
       "      <td>49752.000000</td>\n",
       "      <td>49752.000000</td>\n",
       "      <td>49752.000000</td>\n",
       "      <td>49752.000000</td>\n",
       "      <td>49752.000000</td>\n",
       "      <td>49752.000000</td>\n",
       "      <td>49752.000000</td>\n",
       "      <td>49752.000000</td>\n",
       "      <td>49752.000000</td>\n",
       "      <td>49752.000000</td>\n",
       "      <td>49752.000000</td>\n",
       "      <td>49752.000000</td>\n",
       "      <td>49752.000000</td>\n",
       "      <td>49752.000000</td>\n",
       "      <td>49752.000000</td>\n",
       "      <td>49752.000000</td>\n",
       "      <td>49752.000000</td>\n",
       "      <td>49752.000000</td>\n",
       "      <td>49752.000000</td>\n",
       "      <td>49752.000000</td>\n",
       "      <td>49752.000000</td>\n",
       "      <td>49752.000000</td>\n",
       "      <td>49752.000000</td>\n",
       "      <td>49752.000000</td>\n",
       "      <td>49752.000000</td>\n",
       "      <td>49752.000000</td>\n",
       "      <td>49752.000000</td>\n",
       "      <td>49752.000000</td>\n",
       "      <td>49752.000000</td>\n",
       "      <td>49752.000000</td>\n",
       "      <td>49752.000000</td>\n",
       "      <td>49752.000000</td>\n",
       "      <td>49752.000000</td>\n",
       "      <td>49752.000000</td>\n",
       "      <td>49752.000000</td>\n",
       "      <td>49752.000000</td>\n",
       "      <td>49752.000000</td>\n",
       "      <td>49752.000000</td>\n",
       "      <td>49752.000000</td>\n",
       "      <td>49752.000000</td>\n",
       "      <td>49752.000000</td>\n",
       "      <td>49752.000000</td>\n",
       "      <td>49752.000000</td>\n",
       "      <td>49752.000000</td>\n",
       "      <td>49752.000000</td>\n",
       "    </tr>\n",
       "    <tr>\n",
       "      <th>mean</th>\n",
       "      <td>0.286320</td>\n",
       "      <td>58.717374</td>\n",
       "      <td>525.021466</td>\n",
       "      <td>46.834961</td>\n",
       "      <td>0.891841</td>\n",
       "      <td>39.754040</td>\n",
       "      <td>1.226327</td>\n",
       "      <td>-11.656175</td>\n",
       "      <td>-1.175937</td>\n",
       "      <td>6.010556</td>\n",
       "      <td>4.077814</td>\n",
       "      <td>28.290957</td>\n",
       "      <td>1.874031</td>\n",
       "      <td>0.298422</td>\n",
       "      <td>114.709214</td>\n",
       "      <td>25.350316</td>\n",
       "      <td>8.163666</td>\n",
       "      <td>90.450414</td>\n",
       "      <td>67.711378</td>\n",
       "      <td>10.149178</td>\n",
       "      <td>0.011772</td>\n",
       "      <td>1.837229</td>\n",
       "      <td>18.730805</td>\n",
       "      <td>1.529004</td>\n",
       "      <td>1.350860</td>\n",
       "      <td>1.805093</td>\n",
       "      <td>1.558711</td>\n",
       "      <td>380.020843</td>\n",
       "      <td>31.338258</td>\n",
       "      <td>21.147592</td>\n",
       "      <td>0.246603</td>\n",
       "      <td>0.138688</td>\n",
       "      <td>0.902577</td>\n",
       "      <td>0.190384</td>\n",
       "      <td>0.083072</td>\n",
       "      <td>0.368226</td>\n",
       "      <td>0.383603</td>\n",
       "      <td>0.014994</td>\n",
       "      <td>0.057405</td>\n",
       "      <td>0.188616</td>\n",
       "      <td>0.688234</td>\n",
       "      <td>0.035496</td>\n",
       "      <td>0.018331</td>\n",
       "      <td>0.193178</td>\n",
       "      <td>0.051475</td>\n",
       "      <td>4.402677</td>\n",
       "      <td>0.013547</td>\n",
       "      <td>0.053686</td>\n",
       "      <td>0.032582</td>\n",
       "      <td>2.864528</td>\n",
       "      <td>581.710363</td>\n",
       "    </tr>\n",
       "    <tr>\n",
       "      <th>std</th>\n",
       "      <td>0.452045</td>\n",
       "      <td>44.317244</td>\n",
       "      <td>528.510155</td>\n",
       "      <td>23.759492</td>\n",
       "      <td>2.224725</td>\n",
       "      <td>96.091606</td>\n",
       "      <td>9.848360</td>\n",
       "      <td>255.858193</td>\n",
       "      <td>39.392124</td>\n",
       "      <td>9.036653</td>\n",
       "      <td>10.836468</td>\n",
       "      <td>38.860429</td>\n",
       "      <td>5.111285</td>\n",
       "      <td>1.171084</td>\n",
       "      <td>166.107185</td>\n",
       "      <td>35.024146</td>\n",
       "      <td>16.586856</td>\n",
       "      <td>104.600936</td>\n",
       "      <td>92.736063</td>\n",
       "      <td>15.456031</td>\n",
       "      <td>0.582402</td>\n",
       "      <td>5.590515</td>\n",
       "      <td>9.739418</td>\n",
       "      <td>1.225841</td>\n",
       "      <td>0.667839</td>\n",
       "      <td>1.330834</td>\n",
       "      <td>0.906256</td>\n",
       "      <td>252.290072</td>\n",
       "      <td>22.091593</td>\n",
       "      <td>23.926589</td>\n",
       "      <td>0.431038</td>\n",
       "      <td>0.345624</td>\n",
       "      <td>0.296536</td>\n",
       "      <td>0.392608</td>\n",
       "      <td>0.275994</td>\n",
       "      <td>0.482328</td>\n",
       "      <td>0.486268</td>\n",
       "      <td>0.121531</td>\n",
       "      <td>0.232617</td>\n",
       "      <td>0.391207</td>\n",
       "      <td>0.463220</td>\n",
       "      <td>0.201964</td>\n",
       "      <td>0.142854</td>\n",
       "      <td>0.394796</td>\n",
       "      <td>0.266490</td>\n",
       "      <td>3.110498</td>\n",
       "      <td>0.115602</td>\n",
       "      <td>0.382677</td>\n",
       "      <td>0.177541</td>\n",
       "      <td>1.568627</td>\n",
       "      <td>245.600548</td>\n",
       "    </tr>\n",
       "    <tr>\n",
       "      <th>min</th>\n",
       "      <td>0.000000</td>\n",
       "      <td>-6.170000</td>\n",
       "      <td>0.000000</td>\n",
       "      <td>-6.000000</td>\n",
       "      <td>0.000000</td>\n",
       "      <td>0.000000</td>\n",
       "      <td>0.000000</td>\n",
       "      <td>-3875.000000</td>\n",
       "      <td>-1107.700000</td>\n",
       "      <td>0.000000</td>\n",
       "      <td>0.000000</td>\n",
       "      <td>0.000000</td>\n",
       "      <td>0.000000</td>\n",
       "      <td>0.000000</td>\n",
       "      <td>0.000000</td>\n",
       "      <td>0.000000</td>\n",
       "      <td>0.000000</td>\n",
       "      <td>0.000000</td>\n",
       "      <td>0.000000</td>\n",
       "      <td>0.000000</td>\n",
       "      <td>0.000000</td>\n",
       "      <td>0.000000</td>\n",
       "      <td>6.000000</td>\n",
       "      <td>1.000000</td>\n",
       "      <td>0.000000</td>\n",
       "      <td>1.000000</td>\n",
       "      <td>1.000000</td>\n",
       "      <td>-5.000000</td>\n",
       "      <td>0.000000</td>\n",
       "      <td>0.000000</td>\n",
       "      <td>0.000000</td>\n",
       "      <td>0.000000</td>\n",
       "      <td>0.000000</td>\n",
       "      <td>0.000000</td>\n",
       "      <td>0.000000</td>\n",
       "      <td>0.000000</td>\n",
       "      <td>0.000000</td>\n",
       "      <td>0.000000</td>\n",
       "      <td>0.000000</td>\n",
       "      <td>0.000000</td>\n",
       "      <td>0.000000</td>\n",
       "      <td>0.000000</td>\n",
       "      <td>0.000000</td>\n",
       "      <td>0.000000</td>\n",
       "      <td>0.000000</td>\n",
       "      <td>0.000000</td>\n",
       "      <td>0.000000</td>\n",
       "      <td>0.000000</td>\n",
       "      <td>0.000000</td>\n",
       "      <td>1.000000</td>\n",
       "      <td>201.000000</td>\n",
       "    </tr>\n",
       "    <tr>\n",
       "      <th>25%</th>\n",
       "      <td>0.000000</td>\n",
       "      <td>33.610000</td>\n",
       "      <td>158.000000</td>\n",
       "      <td>30.000000</td>\n",
       "      <td>0.000000</td>\n",
       "      <td>0.000000</td>\n",
       "      <td>0.000000</td>\n",
       "      <td>-83.000000</td>\n",
       "      <td>-7.000000</td>\n",
       "      <td>0.700000</td>\n",
       "      <td>0.000000</td>\n",
       "      <td>5.300000</td>\n",
       "      <td>0.000000</td>\n",
       "      <td>0.000000</td>\n",
       "      <td>8.500000</td>\n",
       "      <td>3.300000</td>\n",
       "      <td>0.000000</td>\n",
       "      <td>23.300000</td>\n",
       "      <td>11.000000</td>\n",
       "      <td>2.000000</td>\n",
       "      <td>0.000000</td>\n",
       "      <td>0.000000</td>\n",
       "      <td>11.000000</td>\n",
       "      <td>1.000000</td>\n",
       "      <td>1.000000</td>\n",
       "      <td>1.000000</td>\n",
       "      <td>1.000000</td>\n",
       "      <td>205.000000</td>\n",
       "      <td>0.000000</td>\n",
       "      <td>0.000000</td>\n",
       "      <td>0.000000</td>\n",
       "      <td>0.000000</td>\n",
       "      <td>1.000000</td>\n",
       "      <td>0.000000</td>\n",
       "      <td>0.000000</td>\n",
       "      <td>0.000000</td>\n",
       "      <td>0.000000</td>\n",
       "      <td>0.000000</td>\n",
       "      <td>0.000000</td>\n",
       "      <td>0.000000</td>\n",
       "      <td>0.000000</td>\n",
       "      <td>0.000000</td>\n",
       "      <td>0.000000</td>\n",
       "      <td>0.000000</td>\n",
       "      <td>0.000000</td>\n",
       "      <td>1.000000</td>\n",
       "      <td>0.000000</td>\n",
       "      <td>0.000000</td>\n",
       "      <td>0.000000</td>\n",
       "      <td>2.000000</td>\n",
       "      <td>323.000000</td>\n",
       "    </tr>\n",
       "    <tr>\n",
       "      <th>50%</th>\n",
       "      <td>0.000000</td>\n",
       "      <td>48.380000</td>\n",
       "      <td>366.000000</td>\n",
       "      <td>45.000000</td>\n",
       "      <td>0.250000</td>\n",
       "      <td>3.000000</td>\n",
       "      <td>0.000000</td>\n",
       "      <td>-5.000000</td>\n",
       "      <td>-0.300000</td>\n",
       "      <td>3.000000</td>\n",
       "      <td>1.000000</td>\n",
       "      <td>16.300000</td>\n",
       "      <td>0.000000</td>\n",
       "      <td>0.000000</td>\n",
       "      <td>52.900000</td>\n",
       "      <td>13.700000</td>\n",
       "      <td>2.000000</td>\n",
       "      <td>62.000000</td>\n",
       "      <td>35.700000</td>\n",
       "      <td>5.300000</td>\n",
       "      <td>0.000000</td>\n",
       "      <td>0.300000</td>\n",
       "      <td>16.000000</td>\n",
       "      <td>1.000000</td>\n",
       "      <td>1.000000</td>\n",
       "      <td>1.000000</td>\n",
       "      <td>1.000000</td>\n",
       "      <td>330.000000</td>\n",
       "      <td>36.000000</td>\n",
       "      <td>0.000000</td>\n",
       "      <td>0.000000</td>\n",
       "      <td>0.000000</td>\n",
       "      <td>1.000000</td>\n",
       "      <td>0.000000</td>\n",
       "      <td>0.000000</td>\n",
       "      <td>0.000000</td>\n",
       "      <td>0.000000</td>\n",
       "      <td>0.000000</td>\n",
       "      <td>0.000000</td>\n",
       "      <td>0.000000</td>\n",
       "      <td>1.000000</td>\n",
       "      <td>0.000000</td>\n",
       "      <td>0.000000</td>\n",
       "      <td>0.000000</td>\n",
       "      <td>0.000000</td>\n",
       "      <td>5.000000</td>\n",
       "      <td>0.000000</td>\n",
       "      <td>0.000000</td>\n",
       "      <td>0.000000</td>\n",
       "      <td>2.000000</td>\n",
       "      <td>610.000000</td>\n",
       "    </tr>\n",
       "    <tr>\n",
       "      <th>75%</th>\n",
       "      <td>1.000000</td>\n",
       "      <td>70.910000</td>\n",
       "      <td>722.000000</td>\n",
       "      <td>60.000000</td>\n",
       "      <td>0.990000</td>\n",
       "      <td>40.000000</td>\n",
       "      <td>0.300000</td>\n",
       "      <td>65.000000</td>\n",
       "      <td>1.600000</td>\n",
       "      <td>7.700000</td>\n",
       "      <td>3.700000</td>\n",
       "      <td>36.300000</td>\n",
       "      <td>1.700000</td>\n",
       "      <td>0.300000</td>\n",
       "      <td>153.400000</td>\n",
       "      <td>34.000000</td>\n",
       "      <td>9.300000</td>\n",
       "      <td>121.000000</td>\n",
       "      <td>88.700000</td>\n",
       "      <td>12.300000</td>\n",
       "      <td>0.000000</td>\n",
       "      <td>1.300000</td>\n",
       "      <td>24.000000</td>\n",
       "      <td>2.000000</td>\n",
       "      <td>2.000000</td>\n",
       "      <td>2.000000</td>\n",
       "      <td>2.000000</td>\n",
       "      <td>515.000000</td>\n",
       "      <td>48.000000</td>\n",
       "      <td>42.000000</td>\n",
       "      <td>0.000000</td>\n",
       "      <td>0.000000</td>\n",
       "      <td>1.000000</td>\n",
       "      <td>0.000000</td>\n",
       "      <td>0.000000</td>\n",
       "      <td>1.000000</td>\n",
       "      <td>1.000000</td>\n",
       "      <td>0.000000</td>\n",
       "      <td>0.000000</td>\n",
       "      <td>0.000000</td>\n",
       "      <td>1.000000</td>\n",
       "      <td>0.000000</td>\n",
       "      <td>0.000000</td>\n",
       "      <td>0.000000</td>\n",
       "      <td>0.000000</td>\n",
       "      <td>7.000000</td>\n",
       "      <td>0.000000</td>\n",
       "      <td>0.000000</td>\n",
       "      <td>0.000000</td>\n",
       "      <td>4.000000</td>\n",
       "      <td>812.000000</td>\n",
       "    </tr>\n",
       "    <tr>\n",
       "      <th>max</th>\n",
       "      <td>1.000000</td>\n",
       "      <td>1223.380000</td>\n",
       "      <td>7359.000000</td>\n",
       "      <td>400.000000</td>\n",
       "      <td>159.390000</td>\n",
       "      <td>4321.000000</td>\n",
       "      <td>1112.400000</td>\n",
       "      <td>5192.000000</td>\n",
       "      <td>2483.500000</td>\n",
       "      <td>221.700000</td>\n",
       "      <td>324.700000</td>\n",
       "      <td>848.700000</td>\n",
       "      <td>327.300000</td>\n",
       "      <td>66.000000</td>\n",
       "      <td>2692.400000</td>\n",
       "      <td>644.300000</td>\n",
       "      <td>519.300000</td>\n",
       "      <td>2090.700000</td>\n",
       "      <td>1474.700000</td>\n",
       "      <td>339.000000</td>\n",
       "      <td>81.300000</td>\n",
       "      <td>212.700000</td>\n",
       "      <td>61.000000</td>\n",
       "      <td>196.000000</td>\n",
       "      <td>53.000000</td>\n",
       "      <td>24.000000</td>\n",
       "      <td>15.000000</td>\n",
       "      <td>1812.000000</td>\n",
       "      <td>99.000000</td>\n",
       "      <td>99.000000</td>\n",
       "      <td>1.000000</td>\n",
       "      <td>1.000000</td>\n",
       "      <td>1.000000</td>\n",
       "      <td>1.000000</td>\n",
       "      <td>1.000000</td>\n",
       "      <td>1.000000</td>\n",
       "      <td>1.000000</td>\n",
       "      <td>1.000000</td>\n",
       "      <td>1.000000</td>\n",
       "      <td>1.000000</td>\n",
       "      <td>1.000000</td>\n",
       "      <td>4.000000</td>\n",
       "      <td>3.000000</td>\n",
       "      <td>1.000000</td>\n",
       "      <td>16.000000</td>\n",
       "      <td>9.000000</td>\n",
       "      <td>1.000000</td>\n",
       "      <td>25.000000</td>\n",
       "      <td>1.000000</td>\n",
       "      <td>7.000000</td>\n",
       "      <td>978.000000</td>\n",
       "    </tr>\n",
       "  </tbody>\n",
       "</table>\n",
       "</div>"
      ],
      "text/plain": [
       "              Churn  MonthlyRevenue  MonthlyMinutes  TotalRecurringCharge  \\\n",
       "count  49752.000000    49752.000000    49752.000000          49752.000000   \n",
       "mean       0.286320       58.717374      525.021466             46.834961   \n",
       "std        0.452045       44.317244      528.510155             23.759492   \n",
       "min        0.000000       -6.170000        0.000000             -6.000000   \n",
       "25%        0.000000       33.610000      158.000000             30.000000   \n",
       "50%        0.000000       48.380000      366.000000             45.000000   \n",
       "75%        1.000000       70.910000      722.000000             60.000000   \n",
       "max        1.000000     1223.380000     7359.000000            400.000000   \n",
       "\n",
       "       DirectorAssistedCalls  OverageMinutes  RoamingCalls  PercChangeMinutes  \\\n",
       "count           49752.000000    49752.000000  49752.000000       49752.000000   \n",
       "mean                0.891841       39.754040      1.226327         -11.656175   \n",
       "std                 2.224725       96.091606      9.848360         255.858193   \n",
       "min                 0.000000        0.000000      0.000000       -3875.000000   \n",
       "25%                 0.000000        0.000000      0.000000         -83.000000   \n",
       "50%                 0.250000        3.000000      0.000000          -5.000000   \n",
       "75%                 0.990000       40.000000      0.300000          65.000000   \n",
       "max               159.390000     4321.000000   1112.400000        5192.000000   \n",
       "\n",
       "       PercChangeRevenues  DroppedCalls  BlockedCalls  UnansweredCalls  \\\n",
       "count        49752.000000  49752.000000  49752.000000     49752.000000   \n",
       "mean            -1.175937      6.010556      4.077814        28.290957   \n",
       "std             39.392124      9.036653     10.836468        38.860429   \n",
       "min          -1107.700000      0.000000      0.000000         0.000000   \n",
       "25%             -7.000000      0.700000      0.000000         5.300000   \n",
       "50%             -0.300000      3.000000      1.000000        16.300000   \n",
       "75%              1.600000      7.700000      3.700000        36.300000   \n",
       "max           2483.500000    221.700000    324.700000       848.700000   \n",
       "\n",
       "       CustomerCareCalls  ThreewayCalls  ReceivedCalls  OutboundCalls  \\\n",
       "count       49752.000000   49752.000000   49752.000000   49752.000000   \n",
       "mean            1.874031       0.298422     114.709214      25.350316   \n",
       "std             5.111285       1.171084     166.107185      35.024146   \n",
       "min             0.000000       0.000000       0.000000       0.000000   \n",
       "25%             0.000000       0.000000       8.500000       3.300000   \n",
       "50%             0.000000       0.000000      52.900000      13.700000   \n",
       "75%             1.700000       0.300000     153.400000      34.000000   \n",
       "max           327.300000      66.000000    2692.400000     644.300000   \n",
       "\n",
       "       InboundCalls  PeakCallsInOut  OffPeakCallsInOut  DroppedBlockedCalls  \\\n",
       "count  49752.000000    49752.000000       49752.000000         49752.000000   \n",
       "mean       8.163666       90.450414          67.711378            10.149178   \n",
       "std       16.586856      104.600936          92.736063            15.456031   \n",
       "min        0.000000        0.000000           0.000000             0.000000   \n",
       "25%        0.000000       23.300000          11.000000             2.000000   \n",
       "50%        2.000000       62.000000          35.700000             5.300000   \n",
       "75%        9.300000      121.000000          88.700000            12.300000   \n",
       "max      519.300000     2090.700000        1474.700000           339.000000   \n",
       "\n",
       "       CallForwardingCalls  CallWaitingCalls  MonthsInService    UniqueSubs  \\\n",
       "count         49752.000000      49752.000000     49752.000000  49752.000000   \n",
       "mean              0.011772          1.837229        18.730805      1.529004   \n",
       "std               0.582402          5.590515         9.739418      1.225841   \n",
       "min               0.000000          0.000000         6.000000      1.000000   \n",
       "25%               0.000000          0.000000        11.000000      1.000000   \n",
       "50%               0.000000          0.300000        16.000000      1.000000   \n",
       "75%               0.000000          1.300000        24.000000      2.000000   \n",
       "max              81.300000        212.700000        61.000000    196.000000   \n",
       "\n",
       "         ActiveSubs      Handsets  HandsetModels  CurrentEquipmentDays  \\\n",
       "count  49752.000000  49752.000000   49752.000000          49752.000000   \n",
       "mean       1.350860      1.805093       1.558711            380.020843   \n",
       "std        0.667839      1.330834       0.906256            252.290072   \n",
       "min        0.000000      1.000000       1.000000             -5.000000   \n",
       "25%        1.000000      1.000000       1.000000            205.000000   \n",
       "50%        1.000000      1.000000       1.000000            330.000000   \n",
       "75%        2.000000      2.000000       2.000000            515.000000   \n",
       "max       53.000000     24.000000      15.000000           1812.000000   \n",
       "\n",
       "             AgeHH1        AgeHH2  ChildrenInHH  HandsetRefurbished  \\\n",
       "count  49752.000000  49752.000000  49752.000000        49752.000000   \n",
       "mean      31.338258     21.147592      0.246603            0.138688   \n",
       "std       22.091593     23.926589      0.431038            0.345624   \n",
       "min        0.000000      0.000000      0.000000            0.000000   \n",
       "25%        0.000000      0.000000      0.000000            0.000000   \n",
       "50%       36.000000      0.000000      0.000000            0.000000   \n",
       "75%       48.000000     42.000000      0.000000            0.000000   \n",
       "max       99.000000     99.000000      1.000000            1.000000   \n",
       "\n",
       "       HandsetWebCapable    TruckOwner       RVOwner  BuysViaMailOrder  \\\n",
       "count       49752.000000  49752.000000  49752.000000      49752.000000   \n",
       "mean            0.902577      0.190384      0.083072          0.368226   \n",
       "std             0.296536      0.392608      0.275994          0.482328   \n",
       "min             0.000000      0.000000      0.000000          0.000000   \n",
       "25%             1.000000      0.000000      0.000000          0.000000   \n",
       "50%             1.000000      0.000000      0.000000          0.000000   \n",
       "75%             1.000000      0.000000      0.000000          1.000000   \n",
       "max             1.000000      1.000000      1.000000          1.000000   \n",
       "\n",
       "       RespondsToMailOffers  OptOutMailings   NonUSTravel  OwnsComputer  \\\n",
       "count          49752.000000    49752.000000  49752.000000  49752.000000   \n",
       "mean               0.383603        0.014994      0.057405      0.188616   \n",
       "std                0.486268        0.121531      0.232617      0.391207   \n",
       "min                0.000000        0.000000      0.000000      0.000000   \n",
       "25%                0.000000        0.000000      0.000000      0.000000   \n",
       "50%                0.000000        0.000000      0.000000      0.000000   \n",
       "75%                1.000000        0.000000      0.000000      0.000000   \n",
       "max                1.000000        1.000000      1.000000      1.000000   \n",
       "\n",
       "       HasCreditCard  RetentionCalls  RetentionOffersAccepted  \\\n",
       "count   49752.000000    49752.000000             49752.000000   \n",
       "mean        0.688234        0.035496                 0.018331   \n",
       "std         0.463220        0.201964                 0.142854   \n",
       "min         0.000000        0.000000                 0.000000   \n",
       "25%         0.000000        0.000000                 0.000000   \n",
       "50%         1.000000        0.000000                 0.000000   \n",
       "75%         1.000000        0.000000                 0.000000   \n",
       "max         1.000000        4.000000                 3.000000   \n",
       "\n",
       "       NewCellphoneUser  ReferralsMadeBySubscriber   IncomeGroup  \\\n",
       "count      49752.000000               49752.000000  49752.000000   \n",
       "mean           0.193178                   0.051475      4.402677   \n",
       "std            0.394796                   0.266490      3.110498   \n",
       "min            0.000000                   0.000000      0.000000   \n",
       "25%            0.000000                   0.000000      1.000000   \n",
       "50%            0.000000                   0.000000      5.000000   \n",
       "75%            0.000000                   0.000000      7.000000   \n",
       "max            1.000000                  16.000000      9.000000   \n",
       "\n",
       "       OwnsMotorcycle  AdjustmentsToCreditRating  MadeCallToRetentionTeam  \\\n",
       "count    49752.000000               49752.000000             49752.000000   \n",
       "mean         0.013547                   0.053686                 0.032582   \n",
       "std          0.115602                   0.382677                 0.177541   \n",
       "min          0.000000                   0.000000                 0.000000   \n",
       "25%          0.000000                   0.000000                 0.000000   \n",
       "50%          0.000000                   0.000000                 0.000000   \n",
       "75%          0.000000                   0.000000                 0.000000   \n",
       "max          1.000000                  25.000000                 1.000000   \n",
       "\n",
       "       CreditRating       ZipCode  \n",
       "count  49752.000000  49752.000000  \n",
       "mean       2.864528    581.710363  \n",
       "std        1.568627    245.600548  \n",
       "min        1.000000    201.000000  \n",
       "25%        2.000000    323.000000  \n",
       "50%        2.000000    610.000000  \n",
       "75%        4.000000    812.000000  \n",
       "max        7.000000    978.000000  "
      ]
     },
     "execution_count": 32,
     "metadata": {},
     "output_type": "execute_result"
    }
   ],
   "source": [
    "pd.set_option('display.max_columns', None)\n",
    "df.describe()"
   ]
  },
  {
   "cell_type": "markdown",
   "metadata": {},
   "source": [
    "## Cleaning"
   ]
  },
  {
   "cell_type": "markdown",
   "metadata": {},
   "source": [
    "Dropped null values and eliminated unuseful columns"
   ]
  },
  {
   "cell_type": "code",
   "execution_count": 8,
   "metadata": {},
   "outputs": [],
   "source": [
    "df.dropna(how='any', inplace=True)\n",
    "df.drop(['CustomerID', 'Homeownership', 'NotNewCellphoneUser', 'HandsetPrice',\n",
    "'PrizmCode', 'Occupation', 'MaritalStatus'], axis=1, inplace=True)"
   ]
  },
  {
   "cell_type": "markdown",
   "metadata": {},
   "source": [
    "Replaced service area data with zip code"
   ]
  },
  {
   "cell_type": "code",
   "execution_count": 9,
   "metadata": {},
   "outputs": [],
   "source": [
    "df['ZipCode'] = df['ServiceArea'].str[-3:].astype(int) \n",
    "df = df.drop('ServiceArea', axis=1)"
   ]
  },
  {
   "cell_type": "markdown",
   "metadata": {},
   "source": [
    "Converted categorical strings to numeric data"
   ]
  },
  {
   "cell_type": "code",
   "execution_count": 10,
   "metadata": {},
   "outputs": [],
   "source": [
    "df.replace(to_replace='Yes', value=1, inplace=True) \n",
    "df.replace(to_replace='No', value=0, inplace=True) \n",
    "df['CreditRating'] = (df['CreditRating'].str[0]).astype(int)"
   ]
  },
  {
   "cell_type": "code",
   "execution_count": 11,
   "metadata": {},
   "outputs": [
    {
     "data": {
      "text/html": [
       "<div>\n",
       "<style scoped>\n",
       "    .dataframe tbody tr th:only-of-type {\n",
       "        vertical-align: middle;\n",
       "    }\n",
       "\n",
       "    .dataframe tbody tr th {\n",
       "        vertical-align: top;\n",
       "    }\n",
       "\n",
       "    .dataframe thead th {\n",
       "        text-align: right;\n",
       "    }\n",
       "</style>\n",
       "<table border=\"1\" class=\"dataframe\">\n",
       "  <thead>\n",
       "    <tr style=\"text-align: right;\">\n",
       "      <th></th>\n",
       "      <th>Churn</th>\n",
       "      <th>MonthlyRevenue</th>\n",
       "      <th>MonthlyMinutes</th>\n",
       "      <th>TotalRecurringCharge</th>\n",
       "      <th>DirectorAssistedCalls</th>\n",
       "      <th>OverageMinutes</th>\n",
       "      <th>RoamingCalls</th>\n",
       "      <th>PercChangeMinutes</th>\n",
       "      <th>PercChangeRevenues</th>\n",
       "      <th>DroppedCalls</th>\n",
       "      <th>...</th>\n",
       "      <th>RetentionCalls</th>\n",
       "      <th>RetentionOffersAccepted</th>\n",
       "      <th>NewCellphoneUser</th>\n",
       "      <th>ReferralsMadeBySubscriber</th>\n",
       "      <th>IncomeGroup</th>\n",
       "      <th>OwnsMotorcycle</th>\n",
       "      <th>AdjustmentsToCreditRating</th>\n",
       "      <th>MadeCallToRetentionTeam</th>\n",
       "      <th>CreditRating</th>\n",
       "      <th>ZipCode</th>\n",
       "    </tr>\n",
       "  </thead>\n",
       "  <tbody>\n",
       "    <tr>\n",
       "      <th>0</th>\n",
       "      <td>1</td>\n",
       "      <td>24.00</td>\n",
       "      <td>219.0</td>\n",
       "      <td>22.0</td>\n",
       "      <td>0.25</td>\n",
       "      <td>0.0</td>\n",
       "      <td>0.0</td>\n",
       "      <td>-157.0</td>\n",
       "      <td>-19.0</td>\n",
       "      <td>0.7</td>\n",
       "      <td>...</td>\n",
       "      <td>1</td>\n",
       "      <td>0</td>\n",
       "      <td>0</td>\n",
       "      <td>0</td>\n",
       "      <td>4</td>\n",
       "      <td>0</td>\n",
       "      <td>0</td>\n",
       "      <td>1</td>\n",
       "      <td>1</td>\n",
       "      <td>503</td>\n",
       "    </tr>\n",
       "    <tr>\n",
       "      <th>1</th>\n",
       "      <td>1</td>\n",
       "      <td>16.99</td>\n",
       "      <td>10.0</td>\n",
       "      <td>17.0</td>\n",
       "      <td>0.00</td>\n",
       "      <td>0.0</td>\n",
       "      <td>0.0</td>\n",
       "      <td>-4.0</td>\n",
       "      <td>0.0</td>\n",
       "      <td>0.3</td>\n",
       "      <td>...</td>\n",
       "      <td>0</td>\n",
       "      <td>0</td>\n",
       "      <td>1</td>\n",
       "      <td>0</td>\n",
       "      <td>5</td>\n",
       "      <td>0</td>\n",
       "      <td>0</td>\n",
       "      <td>0</td>\n",
       "      <td>4</td>\n",
       "      <td>412</td>\n",
       "    </tr>\n",
       "    <tr>\n",
       "      <th>2</th>\n",
       "      <td>0</td>\n",
       "      <td>38.00</td>\n",
       "      <td>8.0</td>\n",
       "      <td>38.0</td>\n",
       "      <td>0.00</td>\n",
       "      <td>0.0</td>\n",
       "      <td>0.0</td>\n",
       "      <td>-2.0</td>\n",
       "      <td>0.0</td>\n",
       "      <td>0.0</td>\n",
       "      <td>...</td>\n",
       "      <td>0</td>\n",
       "      <td>0</td>\n",
       "      <td>1</td>\n",
       "      <td>0</td>\n",
       "      <td>6</td>\n",
       "      <td>0</td>\n",
       "      <td>0</td>\n",
       "      <td>0</td>\n",
       "      <td>3</td>\n",
       "      <td>414</td>\n",
       "    </tr>\n",
       "    <tr>\n",
       "      <th>3</th>\n",
       "      <td>0</td>\n",
       "      <td>82.28</td>\n",
       "      <td>1312.0</td>\n",
       "      <td>75.0</td>\n",
       "      <td>1.24</td>\n",
       "      <td>0.0</td>\n",
       "      <td>0.0</td>\n",
       "      <td>157.0</td>\n",
       "      <td>8.1</td>\n",
       "      <td>52.0</td>\n",
       "      <td>...</td>\n",
       "      <td>0</td>\n",
       "      <td>0</td>\n",
       "      <td>1</td>\n",
       "      <td>0</td>\n",
       "      <td>6</td>\n",
       "      <td>0</td>\n",
       "      <td>0</td>\n",
       "      <td>0</td>\n",
       "      <td>4</td>\n",
       "      <td>412</td>\n",
       "    </tr>\n",
       "    <tr>\n",
       "      <th>4</th>\n",
       "      <td>1</td>\n",
       "      <td>17.14</td>\n",
       "      <td>0.0</td>\n",
       "      <td>17.0</td>\n",
       "      <td>0.00</td>\n",
       "      <td>0.0</td>\n",
       "      <td>0.0</td>\n",
       "      <td>0.0</td>\n",
       "      <td>-0.2</td>\n",
       "      <td>0.0</td>\n",
       "      <td>...</td>\n",
       "      <td>0</td>\n",
       "      <td>0</td>\n",
       "      <td>0</td>\n",
       "      <td>0</td>\n",
       "      <td>9</td>\n",
       "      <td>0</td>\n",
       "      <td>1</td>\n",
       "      <td>0</td>\n",
       "      <td>1</td>\n",
       "      <td>918</td>\n",
       "    </tr>\n",
       "    <tr>\n",
       "      <th>...</th>\n",
       "      <td>...</td>\n",
       "      <td>...</td>\n",
       "      <td>...</td>\n",
       "      <td>...</td>\n",
       "      <td>...</td>\n",
       "      <td>...</td>\n",
       "      <td>...</td>\n",
       "      <td>...</td>\n",
       "      <td>...</td>\n",
       "      <td>...</td>\n",
       "      <td>...</td>\n",
       "      <td>...</td>\n",
       "      <td>...</td>\n",
       "      <td>...</td>\n",
       "      <td>...</td>\n",
       "      <td>...</td>\n",
       "      <td>...</td>\n",
       "      <td>...</td>\n",
       "      <td>...</td>\n",
       "      <td>...</td>\n",
       "      <td>...</td>\n",
       "    </tr>\n",
       "    <tr>\n",
       "      <th>51035</th>\n",
       "      <td>0</td>\n",
       "      <td>0.00</td>\n",
       "      <td>76.0</td>\n",
       "      <td>30.0</td>\n",
       "      <td>0.00</td>\n",
       "      <td>0.0</td>\n",
       "      <td>0.0</td>\n",
       "      <td>0.0</td>\n",
       "      <td>0.0</td>\n",
       "      <td>5.7</td>\n",
       "      <td>...</td>\n",
       "      <td>0</td>\n",
       "      <td>0</td>\n",
       "      <td>0</td>\n",
       "      <td>0</td>\n",
       "      <td>4</td>\n",
       "      <td>0</td>\n",
       "      <td>0</td>\n",
       "      <td>0</td>\n",
       "      <td>2</td>\n",
       "      <td>619</td>\n",
       "    </tr>\n",
       "    <tr>\n",
       "      <th>51037</th>\n",
       "      <td>0</td>\n",
       "      <td>31.92</td>\n",
       "      <td>63.0</td>\n",
       "      <td>17.0</td>\n",
       "      <td>0.00</td>\n",
       "      <td>43.0</td>\n",
       "      <td>0.0</td>\n",
       "      <td>-38.0</td>\n",
       "      <td>-13.2</td>\n",
       "      <td>0.7</td>\n",
       "      <td>...</td>\n",
       "      <td>0</td>\n",
       "      <td>0</td>\n",
       "      <td>0</td>\n",
       "      <td>0</td>\n",
       "      <td>3</td>\n",
       "      <td>0</td>\n",
       "      <td>0</td>\n",
       "      <td>0</td>\n",
       "      <td>3</td>\n",
       "      <td>760</td>\n",
       "    </tr>\n",
       "    <tr>\n",
       "      <th>51040</th>\n",
       "      <td>0</td>\n",
       "      <td>71.99</td>\n",
       "      <td>724.0</td>\n",
       "      <td>70.0</td>\n",
       "      <td>0.00</td>\n",
       "      <td>4.0</td>\n",
       "      <td>0.9</td>\n",
       "      <td>-40.0</td>\n",
       "      <td>-2.0</td>\n",
       "      <td>14.3</td>\n",
       "      <td>...</td>\n",
       "      <td>0</td>\n",
       "      <td>0</td>\n",
       "      <td>0</td>\n",
       "      <td>0</td>\n",
       "      <td>7</td>\n",
       "      <td>0</td>\n",
       "      <td>0</td>\n",
       "      <td>0</td>\n",
       "      <td>1</td>\n",
       "      <td>818</td>\n",
       "    </tr>\n",
       "    <tr>\n",
       "      <th>51041</th>\n",
       "      <td>1</td>\n",
       "      <td>117.49</td>\n",
       "      <td>384.0</td>\n",
       "      <td>30.0</td>\n",
       "      <td>0.00</td>\n",
       "      <td>250.0</td>\n",
       "      <td>0.0</td>\n",
       "      <td>0.0</td>\n",
       "      <td>0.0</td>\n",
       "      <td>4.0</td>\n",
       "      <td>...</td>\n",
       "      <td>0</td>\n",
       "      <td>0</td>\n",
       "      <td>0</td>\n",
       "      <td>0</td>\n",
       "      <td>2</td>\n",
       "      <td>0</td>\n",
       "      <td>0</td>\n",
       "      <td>0</td>\n",
       "      <td>5</td>\n",
       "      <td>562</td>\n",
       "    </tr>\n",
       "    <tr>\n",
       "      <th>51043</th>\n",
       "      <td>0</td>\n",
       "      <td>95.17</td>\n",
       "      <td>1745.0</td>\n",
       "      <td>85.0</td>\n",
       "      <td>0.99</td>\n",
       "      <td>45.0</td>\n",
       "      <td>4.7</td>\n",
       "      <td>122.0</td>\n",
       "      <td>15.9</td>\n",
       "      <td>16.7</td>\n",
       "      <td>...</td>\n",
       "      <td>0</td>\n",
       "      <td>0</td>\n",
       "      <td>0</td>\n",
       "      <td>0</td>\n",
       "      <td>9</td>\n",
       "      <td>0</td>\n",
       "      <td>1</td>\n",
       "      <td>0</td>\n",
       "      <td>3</td>\n",
       "      <td>310</td>\n",
       "    </tr>\n",
       "  </tbody>\n",
       "</table>\n",
       "<p>49752 rows × 51 columns</p>\n",
       "</div>"
      ],
      "text/plain": [
       "       Churn  MonthlyRevenue  MonthlyMinutes  TotalRecurringCharge  \\\n",
       "0          1           24.00           219.0                  22.0   \n",
       "1          1           16.99            10.0                  17.0   \n",
       "2          0           38.00             8.0                  38.0   \n",
       "3          0           82.28          1312.0                  75.0   \n",
       "4          1           17.14             0.0                  17.0   \n",
       "...      ...             ...             ...                   ...   \n",
       "51035      0            0.00            76.0                  30.0   \n",
       "51037      0           31.92            63.0                  17.0   \n",
       "51040      0           71.99           724.0                  70.0   \n",
       "51041      1          117.49           384.0                  30.0   \n",
       "51043      0           95.17          1745.0                  85.0   \n",
       "\n",
       "       DirectorAssistedCalls  OverageMinutes  RoamingCalls  PercChangeMinutes  \\\n",
       "0                       0.25             0.0           0.0             -157.0   \n",
       "1                       0.00             0.0           0.0               -4.0   \n",
       "2                       0.00             0.0           0.0               -2.0   \n",
       "3                       1.24             0.0           0.0              157.0   \n",
       "4                       0.00             0.0           0.0                0.0   \n",
       "...                      ...             ...           ...                ...   \n",
       "51035                   0.00             0.0           0.0                0.0   \n",
       "51037                   0.00            43.0           0.0              -38.0   \n",
       "51040                   0.00             4.0           0.9              -40.0   \n",
       "51041                   0.00           250.0           0.0                0.0   \n",
       "51043                   0.99            45.0           4.7              122.0   \n",
       "\n",
       "       PercChangeRevenues  DroppedCalls  ...  RetentionCalls  \\\n",
       "0                   -19.0           0.7  ...               1   \n",
       "1                     0.0           0.3  ...               0   \n",
       "2                     0.0           0.0  ...               0   \n",
       "3                     8.1          52.0  ...               0   \n",
       "4                    -0.2           0.0  ...               0   \n",
       "...                   ...           ...  ...             ...   \n",
       "51035                 0.0           5.7  ...               0   \n",
       "51037               -13.2           0.7  ...               0   \n",
       "51040                -2.0          14.3  ...               0   \n",
       "51041                 0.0           4.0  ...               0   \n",
       "51043                15.9          16.7  ...               0   \n",
       "\n",
       "       RetentionOffersAccepted  NewCellphoneUser  ReferralsMadeBySubscriber  \\\n",
       "0                            0                 0                          0   \n",
       "1                            0                 1                          0   \n",
       "2                            0                 1                          0   \n",
       "3                            0                 1                          0   \n",
       "4                            0                 0                          0   \n",
       "...                        ...               ...                        ...   \n",
       "51035                        0                 0                          0   \n",
       "51037                        0                 0                          0   \n",
       "51040                        0                 0                          0   \n",
       "51041                        0                 0                          0   \n",
       "51043                        0                 0                          0   \n",
       "\n",
       "       IncomeGroup  OwnsMotorcycle  AdjustmentsToCreditRating  \\\n",
       "0                4               0                          0   \n",
       "1                5               0                          0   \n",
       "2                6               0                          0   \n",
       "3                6               0                          0   \n",
       "4                9               0                          1   \n",
       "...            ...             ...                        ...   \n",
       "51035            4               0                          0   \n",
       "51037            3               0                          0   \n",
       "51040            7               0                          0   \n",
       "51041            2               0                          0   \n",
       "51043            9               0                          1   \n",
       "\n",
       "       MadeCallToRetentionTeam  CreditRating  ZipCode  \n",
       "0                            1             1      503  \n",
       "1                            0             4      412  \n",
       "2                            0             3      414  \n",
       "3                            0             4      412  \n",
       "4                            0             1      918  \n",
       "...                        ...           ...      ...  \n",
       "51035                        0             2      619  \n",
       "51037                        0             3      760  \n",
       "51040                        0             1      818  \n",
       "51041                        0             5      562  \n",
       "51043                        0             3      310  \n",
       "\n",
       "[49752 rows x 51 columns]"
      ]
     },
     "execution_count": 11,
     "metadata": {},
     "output_type": "execute_result"
    }
   ],
   "source": [
    "df"
   ]
  },
  {
   "cell_type": "code",
   "execution_count": 12,
   "metadata": {},
   "outputs": [
    {
     "name": "stdout",
     "output_type": "stream",
     "text": [
      "<class 'pandas.core.frame.DataFrame'>\n",
      "Int64Index: 49752 entries, 0 to 51043\n",
      "Data columns (total 51 columns):\n",
      " #   Column                     Non-Null Count  Dtype  \n",
      "---  ------                     --------------  -----  \n",
      " 0   Churn                      49752 non-null  int64  \n",
      " 1   MonthlyRevenue             49752 non-null  float64\n",
      " 2   MonthlyMinutes             49752 non-null  float64\n",
      " 3   TotalRecurringCharge       49752 non-null  float64\n",
      " 4   DirectorAssistedCalls      49752 non-null  float64\n",
      " 5   OverageMinutes             49752 non-null  float64\n",
      " 6   RoamingCalls               49752 non-null  float64\n",
      " 7   PercChangeMinutes          49752 non-null  float64\n",
      " 8   PercChangeRevenues         49752 non-null  float64\n",
      " 9   DroppedCalls               49752 non-null  float64\n",
      " 10  BlockedCalls               49752 non-null  float64\n",
      " 11  UnansweredCalls            49752 non-null  float64\n",
      " 12  CustomerCareCalls          49752 non-null  float64\n",
      " 13  ThreewayCalls              49752 non-null  float64\n",
      " 14  ReceivedCalls              49752 non-null  float64\n",
      " 15  OutboundCalls              49752 non-null  float64\n",
      " 16  InboundCalls               49752 non-null  float64\n",
      " 17  PeakCallsInOut             49752 non-null  float64\n",
      " 18  OffPeakCallsInOut          49752 non-null  float64\n",
      " 19  DroppedBlockedCalls        49752 non-null  float64\n",
      " 20  CallForwardingCalls        49752 non-null  float64\n",
      " 21  CallWaitingCalls           49752 non-null  float64\n",
      " 22  MonthsInService            49752 non-null  int64  \n",
      " 23  UniqueSubs                 49752 non-null  int64  \n",
      " 24  ActiveSubs                 49752 non-null  int64  \n",
      " 25  Handsets                   49752 non-null  float64\n",
      " 26  HandsetModels              49752 non-null  float64\n",
      " 27  CurrentEquipmentDays       49752 non-null  float64\n",
      " 28  AgeHH1                     49752 non-null  float64\n",
      " 29  AgeHH2                     49752 non-null  float64\n",
      " 30  ChildrenInHH               49752 non-null  int64  \n",
      " 31  HandsetRefurbished         49752 non-null  int64  \n",
      " 32  HandsetWebCapable          49752 non-null  int64  \n",
      " 33  TruckOwner                 49752 non-null  int64  \n",
      " 34  RVOwner                    49752 non-null  int64  \n",
      " 35  BuysViaMailOrder           49752 non-null  int64  \n",
      " 36  RespondsToMailOffers       49752 non-null  int64  \n",
      " 37  OptOutMailings             49752 non-null  int64  \n",
      " 38  NonUSTravel                49752 non-null  int64  \n",
      " 39  OwnsComputer               49752 non-null  int64  \n",
      " 40  HasCreditCard              49752 non-null  int64  \n",
      " 41  RetentionCalls             49752 non-null  int64  \n",
      " 42  RetentionOffersAccepted    49752 non-null  int64  \n",
      " 43  NewCellphoneUser           49752 non-null  int64  \n",
      " 44  ReferralsMadeBySubscriber  49752 non-null  int64  \n",
      " 45  IncomeGroup                49752 non-null  int64  \n",
      " 46  OwnsMotorcycle             49752 non-null  int64  \n",
      " 47  AdjustmentsToCreditRating  49752 non-null  int64  \n",
      " 48  MadeCallToRetentionTeam    49752 non-null  int64  \n",
      " 49  CreditRating               49752 non-null  int64  \n",
      " 50  ZipCode                    49752 non-null  int64  \n",
      "dtypes: float64(26), int64(25)\n",
      "memory usage: 19.7 MB\n"
     ]
    }
   ],
   "source": [
    "df.info()"
   ]
  },
  {
   "cell_type": "code",
   "execution_count": 13,
   "metadata": {},
   "outputs": [
    {
     "data": {
      "text/plain": [
       "0    35507\n",
       "1    14245\n",
       "Name: Churn, dtype: int64"
      ]
     },
     "execution_count": 13,
     "metadata": {},
     "output_type": "execute_result"
    }
   ],
   "source": [
    "df.Churn.value_counts()"
   ]
  },
  {
   "cell_type": "markdown",
   "metadata": {},
   "source": [
    "## Model Analysis"
   ]
  },
  {
   "cell_type": "markdown",
   "metadata": {},
   "source": [
    "Assign x and y values, train_test_split, and scale + SMOTE data"
   ]
  },
  {
   "cell_type": "code",
   "execution_count": 14,
   "metadata": {},
   "outputs": [],
   "source": [
    "x = df.drop('Churn', axis=1)\n",
    "y = df.Churn\n",
    "x_train, x_test, y_train, y_test = train_test_split(x, y, test_size=0.25, random_state=15) \n",
    "\n",
    "scale = StandardScaler()\n",
    "x_train_scaled = scale.fit_transform(x_train)\n",
    "x_test_scaled = scale.transform(x_test)\n",
    "\n",
    "sm = SMOTE(random_state=15)\n",
    "x_train_scaled, y_train = sm.fit_resample(x_train_scaled, y_train)"
   ]
  },
  {
   "cell_type": "code",
   "execution_count": 15,
   "metadata": {},
   "outputs": [
    {
     "data": {
      "text/plain": [
       "1    26627\n",
       "0    26627\n",
       "Name: Churn, dtype: int64"
      ]
     },
     "execution_count": 15,
     "metadata": {},
     "output_type": "execute_result"
    }
   ],
   "source": [
    "y_train.value_counts()"
   ]
  },
  {
   "cell_type": "markdown",
   "metadata": {},
   "source": [
    "Dummy Baseline"
   ]
  },
  {
   "cell_type": "code",
   "execution_count": 23,
   "metadata": {},
   "outputs": [
    {
     "name": "stdout",
     "output_type": "stream",
     "text": [
      "Train 0.0\n",
      "Test 0.0\n"
     ]
    },
    {
     "data": {
      "image/png": "[encoded data removed]",
      "text/plain": [
       "<Figure size 432x288 with 2 Axes>"
      ]
     },
     "metadata": {
      "needs_background": "light"
     },
     "output_type": "display_data"
    },
    {
     "data": {
      "image/png": "[encoded data removed]",
      "text/plain": [
       "<Figure size 432x288 with 1 Axes>"
      ]
     },
     "metadata": {
      "needs_background": "light"
     },
     "output_type": "display_data"
    }
   ],
   "source": [
    "dummy_model = DummyClassifier(strategy=\"most_frequent\")\n",
    "dummy_model.fit(x_train_scaled, y_train)\n",
    "y_hat_train = dummy_model.predict(x_train_scaled)\n",
    "y_hat_test = dummy_model.predict(x_test_scaled)\n",
    "print(f'Train {recall_score(y_train, y_hat_train)}')\n",
    "print(f'Test {recall_score(y_test, y_hat_test)}')\n",
    "plot_confusion_matrix(dummy_model, x_test_scaled, y_test)\n",
    "plot_roc_curve(dummy_model, x_test_scaled, y_test);"
   ]
  },
  {
   "cell_type": "markdown",
   "metadata": {},
   "source": [
    "Decision Tree"
   ]
  },
  {
   "cell_type": "code",
   "execution_count": 31,
   "metadata": {},
   "outputs": [
    {
     "name": "stdout",
     "output_type": "stream",
     "text": [
      "Train 0.7462725804634394\n",
      "Test 0.6630129286115796\n"
     ]
    },
    {
     "data": {
      "image/png": "[encoded data removed]",
      "text/plain": [
       "<Figure size 432x288 with 2 Axes>"
      ]
     },
     "metadata": {
      "needs_background": "light"
     },
     "output_type": "display_data"
    },
    {
     "data": {
      "image/png": "[encoded data removed]",
      "text/plain": [
       "<Figure size 432x288 with 1 Axes>"
      ]
     },
     "metadata": {
      "needs_background": "light"
     },
     "output_type": "display_data"
    },
    {
     "data": {
      "image/png": "[encoded data removed]",
      "text/plain": [
       "<Figure size 1440x360 with 1 Axes>"
      ]
     },
     "metadata": {
      "needs_background": "light"
     },
     "output_type": "display_data"
    },
    {
     "data": {
      "image/png": "[encoded data removed]",
      "text/plain": [
       "<Figure size 1440x720 with 1 Axes>"
      ]
     },
     "metadata": {
      "needs_background": "light"
     },
     "output_type": "display_data"
    }
   ],
   "source": [
    "clf = DecisionTreeClassifier(max_depth = 4) \n",
    "clf.fit(x_train_scaled, y_train)\n",
    "y_hat_train = clf.predict(x_train_scaled)\n",
    "y_hat_test = clf.predict(x_test_scaled)\n",
    "print(f'Train {recall_score(y_train, y_hat_train)}')\n",
    "print(f'Test {recall_score(y_test, y_hat_test)}')\n",
    "plot_confusion_matrix(clf, x_test_scaled, y_test);\n",
    "plot_roc_curve(clf, x_test_scaled, y_test);\n",
    "\n",
    "ranking = clf.feature_importances_\n",
    "fig, ax = plt.subplots(figsize=(20,5))\n",
    "pd.Series(ranking).plot.bar(ax=ax);\n",
    "\n",
    "f, ax = plt.subplots(figsize=(20, 10))\n",
    "plot_tree(clf);"
   ]
  },
  {
   "cell_type": "markdown",
   "metadata": {},
   "source": [
    "LogReg"
   ]
  },
  {
   "cell_type": "code",
   "execution_count": 29,
   "metadata": {},
   "outputs": [
    {
     "name": "stdout",
     "output_type": "stream",
     "text": [
      "Train 0.6180568595786232\n",
      "Test 0.5851602023608768\n",
      "[[1.057912   0.81400469 0.93682116 0.97178161 1.11297729 1.0476469\n",
      "  0.85117974 1.15792444 1.03589226 1.01406496 1.0247748  0.9224431\n",
      "  0.95433895 1.0487823  1.06229327 0.94283063 0.95199893 0.99437271\n",
      "  1.03402211 0.99075662 1.01709406 0.78528633 1.22957611 0.87127229\n",
      "  1.12507217 0.99079642 1.44880474 0.85376343 1.00015435 1.05313594\n",
      "  1.08239178 0.97614427 0.98102114 0.99723721 1.13457846 0.83921716\n",
      "  1.00453355 0.99080361 1.0032667  1.09431502 1.0419895  0.99548307\n",
      "  0.95500024 0.97534079 0.95303181 1.03665423 0.93490707 1.0928284\n",
      "  0.88371749 1.01429065]]\n"
     ]
    },
    {
     "data": {
      "image/png": "[encoded data removed]",
      "text/plain": [
       "<Figure size 432x288 with 2 Axes>"
      ]
     },
     "metadata": {
      "needs_background": "light"
     },
     "output_type": "display_data"
    },
    {
     "data": {
      "image/png": "[encoded data removed]",
      "text/plain": [
       "<Figure size 432x288 with 1 Axes>"
      ]
     },
     "metadata": {
      "needs_background": "light"
     },
     "output_type": "display_data"
    }
   ],
   "source": [
    "lr = LogisticRegression()\n",
    "lr.fit(x_train_scaled, y_train)\n",
    "y_hat_train = lr.predict(x_train_scaled) \n",
    "y_hat_test = lr.predict(x_test_scaled) \n",
    "print(f'Train {recall_score(y_train, y_hat_train)}')\n",
    "print(f'Test {recall_score(y_test, y_hat_test)}')\n",
    "print(np.exp(lr.coef_))\n",
    "plot_confusion_matrix(lr, x_test_scaled, y_test)\n",
    "plot_roc_curve(lr, x_test_scaled, y_test);"
   ]
  },
  {
   "cell_type": "markdown",
   "metadata": {},
   "source": [
    "Basic KNN"
   ]
  },
  {
   "cell_type": "code",
   "execution_count": 37,
   "metadata": {},
   "outputs": [
    {
     "name": "stdout",
     "output_type": "stream",
     "text": [
      "Train 0.9330003380027792\n",
      "Test 0.5188308038223721\n"
     ]
    },
    {
     "data": {
      "image/png": "[encoded data removed]",
      "text/plain": [
       "<Figure size 432x288 with 2 Axes>"
      ]
     },
     "metadata": {
      "needs_background": "light"
     },
     "output_type": "display_data"
    },
    {
     "data": {
      "image/png": "[encoded data removed]",
      "text/plain": [
       "<Figure size 432x288 with 1 Axes>"
      ]
     },
     "metadata": {
      "needs_background": "light"
     },
     "output_type": "display_data"
    }
   ],
   "source": [
    "x_train, x_test, y_train, y_test = train_test_split(x, y, test_size=0.25, random_state=15) \n",
    "mscale = MinMaxScaler()\n",
    "x_train_mscaled = mscale.fit_transform(x_train) \n",
    "x_test_mscaled = mscale.transform(x_test)\n",
    "\n",
    "sm = SMOTE(random_state=15)\n",
    "x_train_mscaled, y_mtrain = sm.fit_resample(x_train_mscaled, y_train)\n",
    "\n",
    "knn = KNeighborsClassifier() \n",
    "knn.fit(x_train_mscaled, y_mtrain)\n",
    "y_hat_train = knn.predict(x_train_mscaled) \n",
    "y_hat_test = knn.predict(x_test_mscaled) \n",
    "print(f'Train {recall_score(y_mtrain, y_hat_train)}')\n",
    "print(f'Test {recall_score(y_test, y_hat_test)}')\n",
    "plot_confusion_matrix(knn, x_test_mscaled, y_test); \n",
    "plot_roc_curve(knn, x_test_mscaled, y_test);"
   ]
  },
  {
   "cell_type": "markdown",
   "metadata": {},
   "source": [
    "KNN GridSearchCV"
   ]
  },
  {
   "cell_type": "code",
   "execution_count": 41,
   "metadata": {},
   "outputs": [
    {
     "name": "stdout",
     "output_type": "stream",
     "text": [
      "{'metric': 'manhattan', 'n_neighbors': 1, 'weights': 'uniform'}\n",
      "0.9444515645632462\n"
     ]
    }
   ],
   "source": [
    "grid = {'n_neighbors': [1, 3, 5],\n",
    "    'metric': ['minkowski', 'manhattan'],\n",
    "    'weights': ['uniform', 'distance']}\n",
    "gs = GridSearchCV(estimator=knn, param_grid=grid,scoring='recall', cv=5)\n",
    "gs.fit(x_train_mscaled, y_mtrain)\n",
    "print(gs.best_params_)\n",
    "print(gs.best_score_)"
   ]
  },
  {
   "cell_type": "markdown",
   "metadata": {},
   "source": [
    "GridSearchCV Optimized KNN"
   ]
  },
  {
   "cell_type": "code",
   "execution_count": 40,
   "metadata": {},
   "outputs": [
    {
     "name": "stdout",
     "output_type": "stream",
     "text": [
      "Train 1.0\n",
      "Test 0.3518830803822372\n"
     ]
    },
    {
     "data": {
      "image/png": "[encoded data removed]",
      "text/plain": [
       "<Figure size 432x288 with 2 Axes>"
      ]
     },
     "metadata": {
      "needs_background": "light"
     },
     "output_type": "display_data"
    },
    {
     "data": {
      "image/png": "[encoded data removed]",
      "text/plain": [
       "<Figure size 432x288 with 1 Axes>"
      ]
     },
     "metadata": {
      "needs_background": "light"
     },
     "output_type": "display_data"
    }
   ],
   "source": [
    "knn = KNeighborsClassifier(metric = 'manhattan', n_neighbors=1, weights = 'uniform' ) \n",
    "knn.fit(x_train_mscaled, y_mtrain)\n",
    "y_hat_train = knn.predict(x_train_mscaled) \n",
    "y_hat_test = knn.predict(x_test_mscaled) \n",
    "print(f'Train {recall_score(y_mtrain, y_hat_train)}')\n",
    "print(f'Test {recall_score(y_test, y_hat_test)}')\n",
    "plot_confusion_matrix(knn, x_test_mscaled, y_test); \n",
    "plot_roc_curve(knn, x_test_mscaled, y_test);"
   ]
  },
  {
   "cell_type": "markdown",
   "metadata": {},
   "source": [
    "## Unused Models"
   ]
  },
  {
   "cell_type": "markdown",
   "metadata": {},
   "source": [
    "Random Forest"
   ]
  },
  {
   "cell_type": "code",
   "execution_count": 22,
   "metadata": {},
   "outputs": [
    {
     "name": "stdout",
     "output_type": "stream",
     "text": [
      "Train 0.9399857287715476\n",
      "Test 0.25323215289488477\n"
     ]
    },
    {
     "data": {
      "image/png": "[encoded data removed]",
      "text/plain": [
       "<Figure size 432x288 with 2 Axes>"
      ]
     },
     "metadata": {
      "needs_background": "light"
     },
     "output_type": "display_data"
    },
    {
     "data": {
      "image/png": "[encoded data removed]",
      "text/plain": [
       "<Figure size 432x288 with 1 Axes>"
      ]
     },
     "metadata": {
      "needs_background": "light"
     },
     "output_type": "display_data"
    }
   ],
   "source": [
    "rfc = RandomForestClassifier(max_features='sqrt', max_samples=0.3) \n",
    "rfc.fit(x_train_scaled, y_train)\n",
    "scores = cross_val_score(estimator=rfc, X=x_train_scaled, y=y_train, cv=5) \n",
    "y_hat_train = rfc.predict(x_train_scaled)\n",
    "y_hat_test = rfc.predict(x_test_scaled)\n",
    "print(f'Train {recall_score(y_train, y_hat_train)}')\n",
    "print(f'Test {recall_score(y_test, y_hat_test)}')\n",
    "plot_confusion_matrix(rfc, x_test_scaled, y_test);\n",
    "plot_roc_curve(rfc, x_test_scaled, y_test);"
   ]
  },
  {
   "cell_type": "markdown",
   "metadata": {},
   "source": [
    "Adaboost"
   ]
  },
  {
   "cell_type": "code",
   "execution_count": 23,
   "metadata": {},
   "outputs": [
    {
     "name": "stdout",
     "output_type": "stream",
     "text": [
      "Train 0.6906523453637285\n",
      "Test 0.37380550871275997\n"
     ]
    },
    {
     "data": {
      "image/png": "[encoded data removed]",
      "text/plain": [
       "<Figure size 432x288 with 2 Axes>"
      ]
     },
     "metadata": {
      "needs_background": "light"
     },
     "output_type": "display_data"
    },
    {
     "data": {
      "image/png": "[encoded data removed]",
      "text/plain": [
       "<Figure size 432x288 with 1 Axes>"
      ]
     },
     "metadata": {
      "needs_background": "light"
     },
     "output_type": "display_data"
    }
   ],
   "source": [
    "adb = AdaBoostClassifier()\n",
    "adb.fit(x_train_scaled, y_train)\n",
    "scores = cross_val_score(estimator=adb, X=x_train_scaled, y=y_train, cv=5) \n",
    "y_hat_train = adb.predict(x_train_scaled)\n",
    "y_hat_test = adb.predict(x_test_scaled)\n",
    "print(f'Train {recall_score(y_train, y_hat_train)}')\n",
    "print(f'Test {recall_score(y_test, y_hat_test)}')\n",
    "plot_confusion_matrix(adb, x_test_scaled, y_test);\n",
    "plot_roc_curve(adb, x_test_scaled, y_test);"
   ]
  },
  {
   "cell_type": "markdown",
   "metadata": {},
   "source": [
    "GradientBoost"
   ]
  },
  {
   "cell_type": "code",
   "execution_count": 24,
   "metadata": {},
   "outputs": [
    {
     "name": "stdout",
     "output_type": "stream",
     "text": [
      "Train 0.6650016900138956\n",
      "Test 0.1711635750421585\n"
     ]
    },
    {
     "data": {
      "image/png": "[encoded data removed]",
      "text/plain": [
       "<Figure size 432x288 with 2 Axes>"
      ]
     },
     "metadata": {
      "needs_background": "light"
     },
     "output_type": "display_data"
    },
    {
     "data": {
      "image/png": "[encoded data removed]",
      "text/plain": [
       "<Figure size 432x288 with 1 Axes>"
      ]
     },
     "metadata": {
      "needs_background": "light"
     },
     "output_type": "display_data"
    }
   ],
   "source": [
    "gbc = GradientBoostingClassifier()\n",
    "gbc.fit(x_train_scaled, y_train)\n",
    "y_hat_train = gbc.predict(x_train_scaled)\n",
    "y_hat_test = gbc.predict(x_test_scaled)\n",
    "print(f'Train {recall_score(y_train, y_hat_train)}')\n",
    "print(f'Test {recall_score(y_test, y_hat_test)}')\n",
    "plot_confusion_matrix(gbc, x_test_scaled, y_test);\n",
    "plot_roc_curve(gbc, x_test_scaled, y_test);"
   ]
  },
  {
   "cell_type": "markdown",
   "metadata": {},
   "source": [
    "XGBoost"
   ]
  },
  {
   "cell_type": "code",
   "execution_count": 25,
   "metadata": {},
   "outputs": [
    {
     "name": "stdout",
     "output_type": "stream",
     "text": [
      "Train 0.7666654148045218\n",
      "Test 0.3679033164699269\n"
     ]
    },
    {
     "data": {
      "image/png": "[encoded data removed]",
      "text/plain": [
       "<Figure size 432x288 with 2 Axes>"
      ]
     },
     "metadata": {
      "needs_background": "light"
     },
     "output_type": "display_data"
    },
    {
     "data": {
      "image/png": "[encoded data removed]",
      "text/plain": [
       "<Figure size 432x288 with 1 Axes>"
      ]
     },
     "metadata": {
      "needs_background": "light"
     },
     "output_type": "display_data"
    }
   ],
   "source": [
    "xgbc = XGBClassifier(eta=1, subsample=0.25)\n",
    "xgbc.fit(x_train_scaled, y_train)\n",
    "y_hat_train = xgbc.predict(x_train_scaled)\n",
    "y_hat_test = xgbc.predict(x_test_scaled)\n",
    "print(f'Train {recall_score(y_train, y_hat_train)}')\n",
    "print(f'Test {recall_score(y_test, y_hat_test)}')\n",
    "plot_confusion_matrix(xgbc, x_test_scaled, y_test);\n",
    "plot_roc_curve(xgbc, x_test_scaled, y_test);"
   ]
  },
  {
   "cell_type": "code",
   "execution_count": null,
   "metadata": {},
   "outputs": [],
   "source": []
  }
 ],
 "metadata": {
  "kernelspec": {
   "display_name": "Python 3",
   "language": "python",
   "name": "python3"
  },
  "language_info": {
   "codemirror_mode": {
    "name": "ipython",
    "version": 3
   },
   "file_extension": ".py",
   "mimetype": "text/x-python",
   "name": "python",
   "nbconvert_exporter": "python",
   "pygments_lexer": "ipython3",
   "version": "3.8.5"
  }
 },
 "nbformat": 4,
 "nbformat_minor": 4
}
